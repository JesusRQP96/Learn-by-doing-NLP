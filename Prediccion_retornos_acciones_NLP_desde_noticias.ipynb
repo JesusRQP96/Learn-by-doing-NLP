{
  "nbformat": 4,
  "nbformat_minor": 0,
  "metadata": {
    "colab": {
      "name": "Prediccion retornos acciones_NLP_desde_noticias.ipynb",
      "provenance": [],
      "toc_visible": true,
      "authorship_tag": "ABX9TyP/5ZVfw0q9/BJOZUodfFHz",
      "include_colab_link": true
    },
    "kernelspec": {
      "name": "python3",
      "display_name": "Python 3"
    }
  },
  "cells": [
    {
      "cell_type": "markdown",
      "metadata": {
        "id": "view-in-github",
        "colab_type": "text"
      },
      "source": [
        "<a href=\"https://colab.research.google.com/github/JesusRQP96/Learn-by-doing-NLP/blob/main/Prediccion_retornos_acciones_NLP_desde_noticias.ipynb\" target=\"_parent\"><img src=\"https://colab.research.google.com/assets/colab-badge.svg\" alt=\"Open In Colab\"/></a>"
      ]
    },
    {
      "cell_type": "markdown",
      "metadata": {
        "id": "c_gxL5XMbzNv"
      },
      "source": [
        "# **Prediccion de retornos de acciones usando el enfoque del Analisis del sentimiento**"
      ]
    },
    {
      "cell_type": "code",
      "metadata": {
        "id": "8dwlW8aVcu6P"
      },
      "source": [
        "import numpy as np\n",
        "import matplotlib.pyplot as plt\n",
        "import pandas as pd"
      ],
      "execution_count": 1,
      "outputs": []
    },
    {
      "cell_type": "code",
      "metadata": {
        "id": "q2iTIvxXct-f"
      },
      "source": [
        "df= pd.read_csv('Combined_News_DJIA.csv')"
      ],
      "execution_count": 2,
      "outputs": []
    },
    {
      "cell_type": "code",
      "metadata": {
        "id": "3e_o84Kyc3M4",
        "outputId": "5786374f-b435-4755-93ba-7641e5134dac",
        "colab": {
          "base_uri": "https://localhost:8080/",
          "height": 702
        }
      },
      "source": [
        "df.head()"
      ],
      "execution_count": 3,
      "outputs": [
        {
          "output_type": "execute_result",
          "data": {
            "text/html": [
              "<div>\n",
              "<style scoped>\n",
              "    .dataframe tbody tr th:only-of-type {\n",
              "        vertical-align: middle;\n",
              "    }\n",
              "\n",
              "    .dataframe tbody tr th {\n",
              "        vertical-align: top;\n",
              "    }\n",
              "\n",
              "    .dataframe thead th {\n",
              "        text-align: right;\n",
              "    }\n",
              "</style>\n",
              "<table border=\"1\" class=\"dataframe\">\n",
              "  <thead>\n",
              "    <tr style=\"text-align: right;\">\n",
              "      <th></th>\n",
              "      <th>Date</th>\n",
              "      <th>Label</th>\n",
              "      <th>Top1</th>\n",
              "      <th>Top2</th>\n",
              "      <th>Top3</th>\n",
              "      <th>Top4</th>\n",
              "      <th>Top5</th>\n",
              "      <th>Top6</th>\n",
              "      <th>Top7</th>\n",
              "      <th>Top8</th>\n",
              "      <th>Top9</th>\n",
              "      <th>Top10</th>\n",
              "      <th>Top11</th>\n",
              "      <th>Top12</th>\n",
              "      <th>Top13</th>\n",
              "      <th>Top14</th>\n",
              "      <th>Top15</th>\n",
              "      <th>Top16</th>\n",
              "      <th>Top17</th>\n",
              "      <th>Top18</th>\n",
              "      <th>Top19</th>\n",
              "      <th>Top20</th>\n",
              "      <th>Top21</th>\n",
              "      <th>Top22</th>\n",
              "      <th>Top23</th>\n",
              "      <th>Top24</th>\n",
              "      <th>Top25</th>\n",
              "    </tr>\n",
              "  </thead>\n",
              "  <tbody>\n",
              "    <tr>\n",
              "      <th>0</th>\n",
              "      <td>2008-08-08</td>\n",
              "      <td>0</td>\n",
              "      <td>b\"Georgia 'downs two Russian warplanes' as cou...</td>\n",
              "      <td>b'BREAKING: Musharraf to be impeached.'</td>\n",
              "      <td>b'Russia Today: Columns of troops roll into So...</td>\n",
              "      <td>b'Russian tanks are moving towards the capital...</td>\n",
              "      <td>b\"Afghan children raped with 'impunity,' U.N. ...</td>\n",
              "      <td>b'150 Russian tanks have entered South Ossetia...</td>\n",
              "      <td>b\"Breaking: Georgia invades South Ossetia, Rus...</td>\n",
              "      <td>b\"The 'enemy combatent' trials are nothing but...</td>\n",
              "      <td>b'Georgian troops retreat from S. Osettain cap...</td>\n",
              "      <td>b'Did the U.S. Prep Georgia for War with Russia?'</td>\n",
              "      <td>b'Rice Gives Green Light for Israel to Attack ...</td>\n",
              "      <td>b'Announcing:Class Action Lawsuit on Behalf of...</td>\n",
              "      <td>b\"So---Russia and Georgia are at war and the N...</td>\n",
              "      <td>b\"China tells Bush to stay out of other countr...</td>\n",
              "      <td>b'Did World War III start today?'</td>\n",
              "      <td>b'Georgia Invades South Ossetia - if Russia ge...</td>\n",
              "      <td>b'Al-Qaeda Faces Islamist Backlash'</td>\n",
              "      <td>b'Condoleezza Rice: \"The US would not act to p...</td>\n",
              "      <td>b'This is a busy day:  The European Union has ...</td>\n",
              "      <td>b\"Georgia will withdraw 1,000 soldiers from Ir...</td>\n",
              "      <td>b'Why the Pentagon Thinks Attacking Iran is a ...</td>\n",
              "      <td>b'Caucasus in crisis: Georgia invades South Os...</td>\n",
              "      <td>b'Indian shoe manufactory  - And again in a se...</td>\n",
              "      <td>b'Visitors Suffering from Mental Illnesses Ban...</td>\n",
              "      <td>b\"No Help for Mexico's Kidnapping Surge\"</td>\n",
              "    </tr>\n",
              "    <tr>\n",
              "      <th>1</th>\n",
              "      <td>2008-08-11</td>\n",
              "      <td>1</td>\n",
              "      <td>b'Why wont America and Nato help us? If they w...</td>\n",
              "      <td>b'Bush puts foot down on Georgian conflict'</td>\n",
              "      <td>b\"Jewish Georgian minister: Thanks to Israeli ...</td>\n",
              "      <td>b'Georgian army flees in disarray as Russians ...</td>\n",
              "      <td>b\"Olympic opening ceremony fireworks 'faked'\"</td>\n",
              "      <td>b'What were the Mossad with fraudulent New Zea...</td>\n",
              "      <td>b'Russia angered by Israeli military sale to G...</td>\n",
              "      <td>b'An American citizen living in S.Ossetia blam...</td>\n",
              "      <td>b'Welcome To World War IV! Now In High Definit...</td>\n",
              "      <td>b\"Georgia's move, a mistake of monumental prop...</td>\n",
              "      <td>b'Russia presses deeper into Georgia; U.S. say...</td>\n",
              "      <td>b'Abhinav Bindra wins first ever Individual Ol...</td>\n",
              "      <td>b' U.S. ship heads for Arctic to define territ...</td>\n",
              "      <td>b'Drivers in a Jerusalem taxi station threaten...</td>\n",
              "      <td>b'The French Team is Stunned by Phelps and the...</td>\n",
              "      <td>b'Israel and the US behind the Georgian aggres...</td>\n",
              "      <td>b'\"Do not believe TV, neither Russian nor Geor...</td>\n",
              "      <td>b'Riots are still going on in Montreal (Canada...</td>\n",
              "      <td>b'China to overtake US as largest manufacturer'</td>\n",
              "      <td>b'War in South Ossetia [PICS]'</td>\n",
              "      <td>b'Israeli Physicians Group Condemns State Tort...</td>\n",
              "      <td>b' Russia has just beaten the United States ov...</td>\n",
              "      <td>b'Perhaps *the* question about the Georgia - R...</td>\n",
              "      <td>b'Russia is so much better at war'</td>\n",
              "      <td>b\"So this is what it's come to: trading sex fo...</td>\n",
              "    </tr>\n",
              "    <tr>\n",
              "      <th>2</th>\n",
              "      <td>2008-08-12</td>\n",
              "      <td>0</td>\n",
              "      <td>b'Remember that adorable 9-year-old who sang a...</td>\n",
              "      <td>b\"Russia 'ends Georgia operation'\"</td>\n",
              "      <td>b'\"If we had no sexual harassment we would hav...</td>\n",
              "      <td>b\"Al-Qa'eda is losing support in Iraq because ...</td>\n",
              "      <td>b'Ceasefire in Georgia: Putin Outmaneuvers the...</td>\n",
              "      <td>b'Why Microsoft and Intel tried to kill the XO...</td>\n",
              "      <td>b'Stratfor: The Russo-Georgian War and the Bal...</td>\n",
              "      <td>b\"I'm Trying to Get a Sense of This Whole Geor...</td>\n",
              "      <td>b\"The US military was surprised by the timing ...</td>\n",
              "      <td>b'U.S. Beats War Drum as Iran Dumps the Dollar'</td>\n",
              "      <td>b'Gorbachev: \"Georgian military attacked the S...</td>\n",
              "      <td>b'CNN use footage of Tskhinvali ruins to cover...</td>\n",
              "      <td>b'Beginning a war as the Olympics were opening...</td>\n",
              "      <td>b'55 pyramids as large as the Luxor stacked in...</td>\n",
              "      <td>b'The 11 Top Party Cities in the World'</td>\n",
              "      <td>b'U.S. troops still in Georgia (did you know t...</td>\n",
              "      <td>b'Why Russias response to Georgia was right'</td>\n",
              "      <td>b'Gorbachev accuses U.S. of making a \"serious ...</td>\n",
              "      <td>b'Russia, Georgia, and NATO: Cold War Two'</td>\n",
              "      <td>b'Remember that adorable 62-year-old who led y...</td>\n",
              "      <td>b'War in Georgia: The Israeli connection'</td>\n",
              "      <td>b'All signs point to the US encouraging Georgi...</td>\n",
              "      <td>b'Christopher King argues that the US and NATO...</td>\n",
              "      <td>b'America: The New Mexico?'</td>\n",
              "      <td>b\"BBC NEWS | Asia-Pacific | Extinction 'by man...</td>\n",
              "    </tr>\n",
              "    <tr>\n",
              "      <th>3</th>\n",
              "      <td>2008-08-13</td>\n",
              "      <td>0</td>\n",
              "      <td>b' U.S. refuses Israel weapons to attack Iran:...</td>\n",
              "      <td>b\"When the president ordered to attack Tskhinv...</td>\n",
              "      <td>b' Israel clears troops who killed Reuters cam...</td>\n",
              "      <td>b'Britain\\'s policy of being tough on drugs is...</td>\n",
              "      <td>b'Body of 14 year old found in trunk; Latest (...</td>\n",
              "      <td>b'China has moved 10 *million* quake survivors...</td>\n",
              "      <td>b\"Bush announces Operation Get All Up In Russi...</td>\n",
              "      <td>b'Russian forces sink Georgian ships '</td>\n",
              "      <td>b\"The commander of a Navy air reconnaissance s...</td>\n",
              "      <td>b\"92% of CNN readers: Russia's actions in Geor...</td>\n",
              "      <td>b'USA to send fleet into Black Sea to help Geo...</td>\n",
              "      <td>b\"US warns against Israeli plan to strike agai...</td>\n",
              "      <td>b\"In an intriguing cyberalliance, two Estonian...</td>\n",
              "      <td>b'The CNN Effect: Georgia Schools Russia in In...</td>\n",
              "      <td>b'Why Russias response to Georgia was right'</td>\n",
              "      <td>b'Elephants extinct by 2020?'</td>\n",
              "      <td>b'US humanitarian missions soon in Georgia - i...</td>\n",
              "      <td>b\"Georgia's DDOS came from US sources\"</td>\n",
              "      <td>b'Russian convoy heads into Georgia, violating...</td>\n",
              "      <td>b'Israeli defence minister: US against strike ...</td>\n",
              "      <td>b'Gorbachev: We Had No Choice'</td>\n",
              "      <td>b'Witness: Russian forces head towards Tbilisi...</td>\n",
              "      <td>b' Quarter of Russians blame U.S. for conflict...</td>\n",
              "      <td>b'Georgian president  says US military will ta...</td>\n",
              "      <td>b'2006: Nobel laureate Aleksander Solzhenitsyn...</td>\n",
              "    </tr>\n",
              "    <tr>\n",
              "      <th>4</th>\n",
              "      <td>2008-08-14</td>\n",
              "      <td>1</td>\n",
              "      <td>b'All the experts admit that we should legalis...</td>\n",
              "      <td>b'War in South Osetia - 89 pictures made by a ...</td>\n",
              "      <td>b'Swedish wrestler Ara Abrahamian throws away ...</td>\n",
              "      <td>b'Russia exaggerated the death toll in South O...</td>\n",
              "      <td>b'Missile That Killed 9 Inside Pakistan May Ha...</td>\n",
              "      <td>b\"Rushdie Condemns Random House's Refusal to P...</td>\n",
              "      <td>b'Poland and US agree to missle defense deal. ...</td>\n",
              "      <td>b'Will the Russians conquer Tblisi? Bet on it,...</td>\n",
              "      <td>b'Russia exaggerating South Ossetian death tol...</td>\n",
              "      <td>b' Musharraf expected to resign rather than fa...</td>\n",
              "      <td>b'Moscow Made Plans Months Ago to Invade Georgia'</td>\n",
              "      <td>b'Why Russias response to Georgia was right'</td>\n",
              "      <td>b'Nigeria has handed over the potentially oil-...</td>\n",
              "      <td>b'The US and Poland have agreed a preliminary ...</td>\n",
              "      <td>b'Russia apparently is sabotaging infrastructu...</td>\n",
              "      <td>b'Bank analyst forecast Georgian crisis 2 days...</td>\n",
              "      <td>b\"Georgia confict could set back Russia's US r...</td>\n",
              "      <td>b'War in the Caucasus is as much the product o...</td>\n",
              "      <td>b'\"Non-media\" photos of South Ossetia/Georgia ...</td>\n",
              "      <td>b'Georgian TV reporter shot by Russian sniper ...</td>\n",
              "      <td>b'Saudi Arabia: Mother moves to block child ma...</td>\n",
              "      <td>b'Taliban wages war on humanitarian aid workers'</td>\n",
              "      <td>b'Russia: World  \"can forget about\" Georgia\\'s...</td>\n",
              "      <td>b'Darfur rebels accuse Sudan of mounting major...</td>\n",
              "      <td>b'Philippines : Peace Advocate say Muslims nee...</td>\n",
              "    </tr>\n",
              "  </tbody>\n",
              "</table>\n",
              "</div>"
            ],
            "text/plain": [
              "         Date  ...                                              Top25\n",
              "0  2008-08-08  ...           b\"No Help for Mexico's Kidnapping Surge\"\n",
              "1  2008-08-11  ...  b\"So this is what it's come to: trading sex fo...\n",
              "2  2008-08-12  ...  b\"BBC NEWS | Asia-Pacific | Extinction 'by man...\n",
              "3  2008-08-13  ...  b'2006: Nobel laureate Aleksander Solzhenitsyn...\n",
              "4  2008-08-14  ...  b'Philippines : Peace Advocate say Muslims nee...\n",
              "\n",
              "[5 rows x 27 columns]"
            ]
          },
          "metadata": {
            "tags": []
          },
          "execution_count": 3
        }
      ]
    },
    {
      "cell_type": "code",
      "metadata": {
        "id": "peq7hLBvc_bZ"
      },
      "source": [
        "#Division del conjunto de datos \n",
        "train= df[df['Date'] < '20150101']\n",
        "test = df[df['Date'] > '20141231']"
      ],
      "execution_count": 6,
      "outputs": []
    },
    {
      "cell_type": "code",
      "metadata": {
        "id": "f0f9ljsHdFF0",
        "outputId": "077bc814-238b-4036-b1ed-edb896c9abd7",
        "colab": {
          "base_uri": "https://localhost:8080/",
          "height": 719
        }
      },
      "source": [
        "# Removing punctuations\n",
        "data=train.iloc[:,2:27]\n",
        "data.replace(\"[^a-zA-Z]\",\" \",regex=True, inplace=True)\n",
        "\n",
        "# Renaming column names for ease of access\n",
        "list1= [i for i in range(25)]\n",
        "new_Index=[str(i) for i in list1]\n",
        "data.columns= new_Index\n",
        "data.head(5)"
      ],
      "execution_count": 7,
      "outputs": [
        {
          "output_type": "execute_result",
          "data": {
            "text/html": [
              "<div>\n",
              "<style scoped>\n",
              "    .dataframe tbody tr th:only-of-type {\n",
              "        vertical-align: middle;\n",
              "    }\n",
              "\n",
              "    .dataframe tbody tr th {\n",
              "        vertical-align: top;\n",
              "    }\n",
              "\n",
              "    .dataframe thead th {\n",
              "        text-align: right;\n",
              "    }\n",
              "</style>\n",
              "<table border=\"1\" class=\"dataframe\">\n",
              "  <thead>\n",
              "    <tr style=\"text-align: right;\">\n",
              "      <th></th>\n",
              "      <th>0</th>\n",
              "      <th>1</th>\n",
              "      <th>2</th>\n",
              "      <th>3</th>\n",
              "      <th>4</th>\n",
              "      <th>5</th>\n",
              "      <th>6</th>\n",
              "      <th>7</th>\n",
              "      <th>8</th>\n",
              "      <th>9</th>\n",
              "      <th>10</th>\n",
              "      <th>11</th>\n",
              "      <th>12</th>\n",
              "      <th>13</th>\n",
              "      <th>14</th>\n",
              "      <th>15</th>\n",
              "      <th>16</th>\n",
              "      <th>17</th>\n",
              "      <th>18</th>\n",
              "      <th>19</th>\n",
              "      <th>20</th>\n",
              "      <th>21</th>\n",
              "      <th>22</th>\n",
              "      <th>23</th>\n",
              "      <th>24</th>\n",
              "    </tr>\n",
              "  </thead>\n",
              "  <tbody>\n",
              "    <tr>\n",
              "      <th>0</th>\n",
              "      <td>b Georgia  downs two Russian warplanes  as cou...</td>\n",
              "      <td>b BREAKING  Musharraf to be impeached</td>\n",
              "      <td>b Russia Today  Columns of troops roll into So...</td>\n",
              "      <td>b Russian tanks are moving towards the capital...</td>\n",
              "      <td>b Afghan children raped with  impunity   U N  ...</td>\n",
              "      <td>b     Russian tanks have entered South Ossetia...</td>\n",
              "      <td>b Breaking  Georgia invades South Ossetia  Rus...</td>\n",
              "      <td>b The  enemy combatent  trials are nothing but...</td>\n",
              "      <td>b Georgian troops retreat from S  Osettain cap...</td>\n",
              "      <td>b Did the U S  Prep Georgia for War with Russia</td>\n",
              "      <td>b Rice Gives Green Light for Israel to Attack ...</td>\n",
              "      <td>b Announcing Class Action Lawsuit on Behalf of...</td>\n",
              "      <td>b So   Russia and Georgia are at war and the N...</td>\n",
              "      <td>b China tells Bush to stay out of other countr...</td>\n",
              "      <td>b Did World War III start today</td>\n",
              "      <td>b Georgia Invades South Ossetia   if Russia ge...</td>\n",
              "      <td>b Al Qaeda Faces Islamist Backlash</td>\n",
              "      <td>b Condoleezza Rice   The US would not act to p...</td>\n",
              "      <td>b This is a busy day   The European Union has ...</td>\n",
              "      <td>b Georgia will withdraw       soldiers from Ir...</td>\n",
              "      <td>b Why the Pentagon Thinks Attacking Iran is a ...</td>\n",
              "      <td>b Caucasus in crisis  Georgia invades South Os...</td>\n",
              "      <td>b Indian shoe manufactory    And again in a se...</td>\n",
              "      <td>b Visitors Suffering from Mental Illnesses Ban...</td>\n",
              "      <td>b No Help for Mexico s Kidnapping Surge</td>\n",
              "    </tr>\n",
              "    <tr>\n",
              "      <th>1</th>\n",
              "      <td>b Why wont America and Nato help us  If they w...</td>\n",
              "      <td>b Bush puts foot down on Georgian conflict</td>\n",
              "      <td>b Jewish Georgian minister  Thanks to Israeli ...</td>\n",
              "      <td>b Georgian army flees in disarray as Russians ...</td>\n",
              "      <td>b Olympic opening ceremony fireworks  faked</td>\n",
              "      <td>b What were the Mossad with fraudulent New Zea...</td>\n",
              "      <td>b Russia angered by Israeli military sale to G...</td>\n",
              "      <td>b An American citizen living in S Ossetia blam...</td>\n",
              "      <td>b Welcome To World War IV  Now In High Definit...</td>\n",
              "      <td>b Georgia s move  a mistake of monumental prop...</td>\n",
              "      <td>b Russia presses deeper into Georgia  U S  say...</td>\n",
              "      <td>b Abhinav Bindra wins first ever Individual Ol...</td>\n",
              "      <td>b  U S  ship heads for Arctic to define territ...</td>\n",
              "      <td>b Drivers in a Jerusalem taxi station threaten...</td>\n",
              "      <td>b The French Team is Stunned by Phelps and the...</td>\n",
              "      <td>b Israel and the US behind the Georgian aggres...</td>\n",
              "      <td>b  Do not believe TV  neither Russian nor Geor...</td>\n",
              "      <td>b Riots are still going on in Montreal  Canada...</td>\n",
              "      <td>b China to overtake US as largest manufacturer</td>\n",
              "      <td>b War in South Ossetia  PICS</td>\n",
              "      <td>b Israeli Physicians Group Condemns State Tort...</td>\n",
              "      <td>b  Russia has just beaten the United States ov...</td>\n",
              "      <td>b Perhaps  the  question about the Georgia   R...</td>\n",
              "      <td>b Russia is so much better at war</td>\n",
              "      <td>b So this is what it s come to  trading sex fo...</td>\n",
              "    </tr>\n",
              "    <tr>\n",
              "      <th>2</th>\n",
              "      <td>b Remember that adorable   year old who sang a...</td>\n",
              "      <td>b Russia  ends Georgia operation</td>\n",
              "      <td>b  If we had no sexual harassment we would hav...</td>\n",
              "      <td>b Al Qa eda is losing support in Iraq because ...</td>\n",
              "      <td>b Ceasefire in Georgia  Putin Outmaneuvers the...</td>\n",
              "      <td>b Why Microsoft and Intel tried to kill the XO...</td>\n",
              "      <td>b Stratfor  The Russo Georgian War and the Bal...</td>\n",
              "      <td>b I m Trying to Get a Sense of This Whole Geor...</td>\n",
              "      <td>b The US military was surprised by the timing ...</td>\n",
              "      <td>b U S  Beats War Drum as Iran Dumps the Dollar</td>\n",
              "      <td>b Gorbachev   Georgian military attacked the S...</td>\n",
              "      <td>b CNN use footage of Tskhinvali ruins to cover...</td>\n",
              "      <td>b Beginning a war as the Olympics were opening...</td>\n",
              "      <td>b    pyramids as large as the Luxor stacked in...</td>\n",
              "      <td>b The    Top Party Cities in the World</td>\n",
              "      <td>b U S  troops still in Georgia  did you know t...</td>\n",
              "      <td>b Why Russias response to Georgia was right</td>\n",
              "      <td>b Gorbachev accuses U S  of making a  serious ...</td>\n",
              "      <td>b Russia  Georgia  and NATO  Cold War Two</td>\n",
              "      <td>b Remember that adorable    year old who led y...</td>\n",
              "      <td>b War in Georgia  The Israeli connection</td>\n",
              "      <td>b All signs point to the US encouraging Georgi...</td>\n",
              "      <td>b Christopher King argues that the US and NATO...</td>\n",
              "      <td>b America  The New Mexico</td>\n",
              "      <td>b BBC NEWS   Asia Pacific   Extinction  by man...</td>\n",
              "    </tr>\n",
              "    <tr>\n",
              "      <th>3</th>\n",
              "      <td>b  U S  refuses Israel weapons to attack Iran ...</td>\n",
              "      <td>b When the president ordered to attack Tskhinv...</td>\n",
              "      <td>b  Israel clears troops who killed Reuters cam...</td>\n",
              "      <td>b Britain  s policy of being tough on drugs is...</td>\n",
              "      <td>b Body of    year old found in trunk  Latest  ...</td>\n",
              "      <td>b China has moved     million  quake survivors...</td>\n",
              "      <td>b Bush announces Operation Get All Up In Russi...</td>\n",
              "      <td>b Russian forces sink Georgian ships</td>\n",
              "      <td>b The commander of a Navy air reconnaissance s...</td>\n",
              "      <td>b     of CNN readers  Russia s actions in Geor...</td>\n",
              "      <td>b USA to send fleet into Black Sea to help Geo...</td>\n",
              "      <td>b US warns against Israeli plan to strike agai...</td>\n",
              "      <td>b In an intriguing cyberalliance  two Estonian...</td>\n",
              "      <td>b The CNN Effect  Georgia Schools Russia in In...</td>\n",
              "      <td>b Why Russias response to Georgia was right</td>\n",
              "      <td>b Elephants extinct by</td>\n",
              "      <td>b US humanitarian missions soon in Georgia   i...</td>\n",
              "      <td>b Georgia s DDOS came from US sources</td>\n",
              "      <td>b Russian convoy heads into Georgia  violating...</td>\n",
              "      <td>b Israeli defence minister  US against strike ...</td>\n",
              "      <td>b Gorbachev  We Had No Choice</td>\n",
              "      <td>b Witness  Russian forces head towards Tbilisi...</td>\n",
              "      <td>b  Quarter of Russians blame U S  for conflict...</td>\n",
              "      <td>b Georgian president  says US military will ta...</td>\n",
              "      <td>b       Nobel laureate Aleksander Solzhenitsyn...</td>\n",
              "    </tr>\n",
              "    <tr>\n",
              "      <th>4</th>\n",
              "      <td>b All the experts admit that we should legalis...</td>\n",
              "      <td>b War in South Osetia      pictures made by a ...</td>\n",
              "      <td>b Swedish wrestler Ara Abrahamian throws away ...</td>\n",
              "      <td>b Russia exaggerated the death toll in South O...</td>\n",
              "      <td>b Missile That Killed   Inside Pakistan May Ha...</td>\n",
              "      <td>b Rushdie Condemns Random House s Refusal to P...</td>\n",
              "      <td>b Poland and US agree to missle defense deal  ...</td>\n",
              "      <td>b Will the Russians conquer Tblisi  Bet on it ...</td>\n",
              "      <td>b Russia exaggerating South Ossetian death tol...</td>\n",
              "      <td>b  Musharraf expected to resign rather than fa...</td>\n",
              "      <td>b Moscow Made Plans Months Ago to Invade Georgia</td>\n",
              "      <td>b Why Russias response to Georgia was right</td>\n",
              "      <td>b Nigeria has handed over the potentially oil ...</td>\n",
              "      <td>b The US and Poland have agreed a preliminary ...</td>\n",
              "      <td>b Russia apparently is sabotaging infrastructu...</td>\n",
              "      <td>b Bank analyst forecast Georgian crisis   days...</td>\n",
              "      <td>b Georgia confict could set back Russia s US r...</td>\n",
              "      <td>b War in the Caucasus is as much the product o...</td>\n",
              "      <td>b  Non media  photos of South Ossetia Georgia ...</td>\n",
              "      <td>b Georgian TV reporter shot by Russian sniper ...</td>\n",
              "      <td>b Saudi Arabia  Mother moves to block child ma...</td>\n",
              "      <td>b Taliban wages war on humanitarian aid workers</td>\n",
              "      <td>b Russia  World   can forget about  Georgia  s...</td>\n",
              "      <td>b Darfur rebels accuse Sudan of mounting major...</td>\n",
              "      <td>b Philippines   Peace Advocate say Muslims nee...</td>\n",
              "    </tr>\n",
              "  </tbody>\n",
              "</table>\n",
              "</div>"
            ],
            "text/plain": [
              "                                                   0  ...                                                 24\n",
              "0  b Georgia  downs two Russian warplanes  as cou...  ...           b No Help for Mexico s Kidnapping Surge \n",
              "1  b Why wont America and Nato help us  If they w...  ...  b So this is what it s come to  trading sex fo...\n",
              "2  b Remember that adorable   year old who sang a...  ...  b BBC NEWS   Asia Pacific   Extinction  by man...\n",
              "3  b  U S  refuses Israel weapons to attack Iran ...  ...  b       Nobel laureate Aleksander Solzhenitsyn...\n",
              "4  b All the experts admit that we should legalis...  ...  b Philippines   Peace Advocate say Muslims nee...\n",
              "\n",
              "[5 rows x 25 columns]"
            ]
          },
          "metadata": {
            "tags": []
          },
          "execution_count": 7
        }
      ]
    },
    {
      "cell_type": "markdown",
      "metadata": {
        "id": "E42L3S1ydbb5"
      },
      "source": [
        "### Letras minusculas"
      ]
    },
    {
      "cell_type": "code",
      "metadata": {
        "id": "P8OZc-lvdXO_",
        "outputId": "c3b8de77-599b-4554-9a6a-07eac7609042",
        "colab": {
          "base_uri": "https://localhost:8080/",
          "height": 236
        }
      },
      "source": [
        "#Transformando a minusculas\n",
        "for index in new_Index:\n",
        "    data[index]=data[index].str.lower()\n",
        "data.head(1)"
      ],
      "execution_count": 8,
      "outputs": [
        {
          "output_type": "execute_result",
          "data": {
            "text/html": [
              "<div>\n",
              "<style scoped>\n",
              "    .dataframe tbody tr th:only-of-type {\n",
              "        vertical-align: middle;\n",
              "    }\n",
              "\n",
              "    .dataframe tbody tr th {\n",
              "        vertical-align: top;\n",
              "    }\n",
              "\n",
              "    .dataframe thead th {\n",
              "        text-align: right;\n",
              "    }\n",
              "</style>\n",
              "<table border=\"1\" class=\"dataframe\">\n",
              "  <thead>\n",
              "    <tr style=\"text-align: right;\">\n",
              "      <th></th>\n",
              "      <th>0</th>\n",
              "      <th>1</th>\n",
              "      <th>2</th>\n",
              "      <th>3</th>\n",
              "      <th>4</th>\n",
              "      <th>5</th>\n",
              "      <th>6</th>\n",
              "      <th>7</th>\n",
              "      <th>8</th>\n",
              "      <th>9</th>\n",
              "      <th>10</th>\n",
              "      <th>11</th>\n",
              "      <th>12</th>\n",
              "      <th>13</th>\n",
              "      <th>14</th>\n",
              "      <th>15</th>\n",
              "      <th>16</th>\n",
              "      <th>17</th>\n",
              "      <th>18</th>\n",
              "      <th>19</th>\n",
              "      <th>20</th>\n",
              "      <th>21</th>\n",
              "      <th>22</th>\n",
              "      <th>23</th>\n",
              "      <th>24</th>\n",
              "    </tr>\n",
              "  </thead>\n",
              "  <tbody>\n",
              "    <tr>\n",
              "      <th>0</th>\n",
              "      <td>b georgia  downs two russian warplanes  as cou...</td>\n",
              "      <td>b breaking  musharraf to be impeached</td>\n",
              "      <td>b russia today  columns of troops roll into so...</td>\n",
              "      <td>b russian tanks are moving towards the capital...</td>\n",
              "      <td>b afghan children raped with  impunity   u n  ...</td>\n",
              "      <td>b     russian tanks have entered south ossetia...</td>\n",
              "      <td>b breaking  georgia invades south ossetia  rus...</td>\n",
              "      <td>b the  enemy combatent  trials are nothing but...</td>\n",
              "      <td>b georgian troops retreat from s  osettain cap...</td>\n",
              "      <td>b did the u s  prep georgia for war with russia</td>\n",
              "      <td>b rice gives green light for israel to attack ...</td>\n",
              "      <td>b announcing class action lawsuit on behalf of...</td>\n",
              "      <td>b so   russia and georgia are at war and the n...</td>\n",
              "      <td>b china tells bush to stay out of other countr...</td>\n",
              "      <td>b did world war iii start today</td>\n",
              "      <td>b georgia invades south ossetia   if russia ge...</td>\n",
              "      <td>b al qaeda faces islamist backlash</td>\n",
              "      <td>b condoleezza rice   the us would not act to p...</td>\n",
              "      <td>b this is a busy day   the european union has ...</td>\n",
              "      <td>b georgia will withdraw       soldiers from ir...</td>\n",
              "      <td>b why the pentagon thinks attacking iran is a ...</td>\n",
              "      <td>b caucasus in crisis  georgia invades south os...</td>\n",
              "      <td>b indian shoe manufactory    and again in a se...</td>\n",
              "      <td>b visitors suffering from mental illnesses ban...</td>\n",
              "      <td>b no help for mexico s kidnapping surge</td>\n",
              "    </tr>\n",
              "  </tbody>\n",
              "</table>\n",
              "</div>"
            ],
            "text/plain": [
              "                                                   0  ...                                        24\n",
              "0  b georgia  downs two russian warplanes  as cou...  ...  b no help for mexico s kidnapping surge \n",
              "\n",
              "[1 rows x 25 columns]"
            ]
          },
          "metadata": {
            "tags": []
          },
          "execution_count": 8
        }
      ]
    },
    {
      "cell_type": "code",
      "metadata": {
        "id": "s9eMhR6udq7O",
        "outputId": "428305f6-a9b8-499d-ad89-1f1ba5fd8e8c",
        "colab": {
          "base_uri": "https://localhost:8080/",
          "height": 199
        }
      },
      "source": [
        "' '.join(str(x) for x in data.iloc[1,0:25])"
      ],
      "execution_count": 9,
      "outputs": [
        {
          "output_type": "execute_result",
          "data": {
            "application/vnd.google.colaboratory.intrinsic+json": {
              "type": "string"
            },
            "text/plain": [
              "'b why wont america and nato help us  if they wont help us now  why did we help them in iraq   b bush puts foot down on georgian conflict  b jewish georgian minister  thanks to israeli training  we re fending off russia   b georgian army flees in disarray as russians advance   gori abandoned to russia without a shot fired  b olympic opening ceremony fireworks  faked   b what were the mossad with fraudulent new zealand passports doing in iraq   b russia angered by israeli military sale to georgia  b an american citizen living in s ossetia blames u s  and georgian leaders for the genocide of innocent people  b welcome to world war iv  now in high definition   b georgia s move  a mistake of monumental proportions   b russia presses deeper into georgia  u s  says regime change is goal  b abhinav bindra wins first ever individual olympic gold medal for india  b  u s  ship heads for arctic to define territory  b drivers in a jerusalem taxi station threaten to quit rather than work for their new boss   an arab  b the french team is stunned by phelps and the  x   m relay team  b israel and the us behind the georgian aggression   b  do not believe tv  neither russian nor georgian  there are much more victims   b riots are still going on in montreal  canada  because police murdered a boy on saturday   b china to overtake us as largest manufacturer  b war in south ossetia  pics   b israeli physicians group condemns state torture  b  russia has just beaten the united states over the head with peak oil  b perhaps  the  question about the georgia   russia conflict   b russia is so much better at war  b so this is what it s come to  trading sex for food  '"
            ]
          },
          "metadata": {
            "tags": []
          },
          "execution_count": 9
        }
      ]
    },
    {
      "cell_type": "code",
      "metadata": {
        "id": "bJ0Go7xCdrwk"
      },
      "source": [
        "\n",
        "headlines = []\n",
        "for row in range(0,len(data.index)):\n",
        "    headlines.append(' '.join(str(x) for x in data.iloc[row,0:25]))"
      ],
      "execution_count": 10,
      "outputs": []
    },
    {
      "cell_type": "markdown",
      "metadata": {
        "id": "jnyOgMoPd1Uq"
      },
      "source": [
        "## Modelo Bag of Words"
      ]
    },
    {
      "cell_type": "code",
      "metadata": {
        "id": "1OFASLiJdvOj"
      },
      "source": [
        "\n",
        "from sklearn.feature_extraction.text import CountVectorizer\n",
        "from sklearn.ensemble import RandomForestClassifier"
      ],
      "execution_count": 11,
      "outputs": []
    },
    {
      "cell_type": "code",
      "metadata": {
        "id": "ZJ1cU-wRd5l0"
      },
      "source": [
        "## implement BAG OF WORDS\n",
        "countvector=CountVectorizer(ngram_range=(2,2))\n",
        "traindataset=countvector.fit_transform(headlines)"
      ],
      "execution_count": 12,
      "outputs": []
    },
    {
      "cell_type": "code",
      "metadata": {
        "id": "vvo44YHvd85e"
      },
      "source": [
        "#  RandomForest Classifier\n",
        "randomclassifier=RandomForestClassifier(n_estimators=200,criterion='entropy')\n",
        "randomclassifier.fit(traindataset,train['Label'])"
      ],
      "execution_count": null,
      "outputs": []
    },
    {
      "cell_type": "markdown",
      "metadata": {
        "id": "285IUndzbzL6"
      },
      "source": [
        "\n"
      ]
    }
  ]
}